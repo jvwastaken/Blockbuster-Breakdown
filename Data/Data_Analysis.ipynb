{
 "cells": [
  {
   "cell_type": "code",
   "execution_count": 62,
   "metadata": {},
   "outputs": [],
   "source": [
    "import pandas as pd\n",
    "import csv\n",
    "from pathlib import Path\n",
    "import matplotlib.pyplot as plt\n",
    "import numpy as np"
   ]
  },
  {
   "cell_type": "code",
   "execution_count": 63,
   "metadata": {},
   "outputs": [
    {
     "data": {
      "text/html": [
       "<div>\n",
       "<style scoped>\n",
       "    .dataframe tbody tr th:only-of-type {\n",
       "        vertical-align: middle;\n",
       "    }\n",
       "\n",
       "    .dataframe tbody tr th {\n",
       "        vertical-align: top;\n",
       "    }\n",
       "\n",
       "    .dataframe thead th {\n",
       "        text-align: right;\n",
       "    }\n",
       "</style>\n",
       "<table border=\"1\" class=\"dataframe\">\n",
       "  <thead>\n",
       "    <tr style=\"text-align: right;\">\n",
       "      <th></th>\n",
       "      <th>title</th>\n",
       "      <th>revenue</th>\n",
       "      <th>budget</th>\n",
       "      <th>profit</th>\n",
       "      <th>main_genre</th>\n",
       "      <th>Runtime(Mins)</th>\n",
       "      <th>Year</th>\n",
       "      <th>original_language</th>\n",
       "      <th>Director_O</th>\n",
       "      <th>Actors_O</th>\n",
       "      <th>Rating</th>\n",
       "      <th>Metascore_O</th>\n",
       "      <th>Rotten_Tomato_O</th>\n",
       "      <th>Award Wins</th>\n",
       "      <th>Award Nominations</th>\n",
       "    </tr>\n",
       "  </thead>\n",
       "  <tbody>\n",
       "    <tr>\n",
       "      <th>0</th>\n",
       "      <td>Inception</td>\n",
       "      <td>825532764</td>\n",
       "      <td>160000000</td>\n",
       "      <td>665532764</td>\n",
       "      <td>Action</td>\n",
       "      <td>148.0</td>\n",
       "      <td>2010.0</td>\n",
       "      <td>en</td>\n",
       "      <td>Christopher Nolan</td>\n",
       "      <td>Leonardo DiCaprio, Joseph Gordon-Levitt, Ellio...</td>\n",
       "      <td>8.8</td>\n",
       "      <td>74.0</td>\n",
       "      <td>87%</td>\n",
       "      <td>159.0</td>\n",
       "      <td>220.0</td>\n",
       "    </tr>\n",
       "    <tr>\n",
       "      <th>1</th>\n",
       "      <td>Interstellar</td>\n",
       "      <td>701729206</td>\n",
       "      <td>165000000</td>\n",
       "      <td>536729206</td>\n",
       "      <td>Adventure</td>\n",
       "      <td>169.0</td>\n",
       "      <td>2014.0</td>\n",
       "      <td>en</td>\n",
       "      <td>Christopher Nolan</td>\n",
       "      <td>Matthew McConaughey, Anne Hathaway, Jessica Ch...</td>\n",
       "      <td>8.6</td>\n",
       "      <td>74.0</td>\n",
       "      <td>73%</td>\n",
       "      <td>0.0</td>\n",
       "      <td>0.0</td>\n",
       "    </tr>\n",
       "    <tr>\n",
       "      <th>2</th>\n",
       "      <td>The Dark Knight</td>\n",
       "      <td>1004558444</td>\n",
       "      <td>185000000</td>\n",
       "      <td>819558444</td>\n",
       "      <td>Action</td>\n",
       "      <td>152.0</td>\n",
       "      <td>2008.0</td>\n",
       "      <td>en</td>\n",
       "      <td>Christopher Nolan</td>\n",
       "      <td>Christian Bale, Heath Ledger, Aaron Eckhart</td>\n",
       "      <td>9.0</td>\n",
       "      <td>84.0</td>\n",
       "      <td>94%</td>\n",
       "      <td>163.0</td>\n",
       "      <td>164.0</td>\n",
       "    </tr>\n",
       "    <tr>\n",
       "      <th>3</th>\n",
       "      <td>Avatar</td>\n",
       "      <td>2923706026</td>\n",
       "      <td>237000000</td>\n",
       "      <td>2686706026</td>\n",
       "      <td>Action</td>\n",
       "      <td>162.0</td>\n",
       "      <td>2009.0</td>\n",
       "      <td>en</td>\n",
       "      <td>James Cameron</td>\n",
       "      <td>Sam Worthington, Zoe Saldana, Sigourney Weaver</td>\n",
       "      <td>7.8</td>\n",
       "      <td>83.0</td>\n",
       "      <td>82%</td>\n",
       "      <td>91.0</td>\n",
       "      <td>131.0</td>\n",
       "    </tr>\n",
       "    <tr>\n",
       "      <th>4</th>\n",
       "      <td>The Avengers</td>\n",
       "      <td>1518815515</td>\n",
       "      <td>220000000</td>\n",
       "      <td>1298815515</td>\n",
       "      <td>Action</td>\n",
       "      <td>143.0</td>\n",
       "      <td>2012.0</td>\n",
       "      <td>en</td>\n",
       "      <td>Joss Whedon</td>\n",
       "      <td>Robert Downey Jr., Chris Evans, Scarlett Johan...</td>\n",
       "      <td>8.0</td>\n",
       "      <td>69.0</td>\n",
       "      <td>91%</td>\n",
       "      <td>39.0</td>\n",
       "      <td>81.0</td>\n",
       "    </tr>\n",
       "  </tbody>\n",
       "</table>\n",
       "</div>"
      ],
      "text/plain": [
       "             title     revenue     budget      profit main_genre  \\\n",
       "0        Inception   825532764  160000000   665532764     Action   \n",
       "1     Interstellar   701729206  165000000   536729206  Adventure   \n",
       "2  The Dark Knight  1004558444  185000000   819558444     Action   \n",
       "3           Avatar  2923706026  237000000  2686706026     Action   \n",
       "4     The Avengers  1518815515  220000000  1298815515     Action   \n",
       "\n",
       "   Runtime(Mins)    Year original_language         Director_O  \\\n",
       "0          148.0  2010.0                en  Christopher Nolan   \n",
       "1          169.0  2014.0                en  Christopher Nolan   \n",
       "2          152.0  2008.0                en  Christopher Nolan   \n",
       "3          162.0  2009.0                en      James Cameron   \n",
       "4          143.0  2012.0                en        Joss Whedon   \n",
       "\n",
       "                                            Actors_O  Rating  Metascore_O  \\\n",
       "0  Leonardo DiCaprio, Joseph Gordon-Levitt, Ellio...     8.8         74.0   \n",
       "1  Matthew McConaughey, Anne Hathaway, Jessica Ch...     8.6         74.0   \n",
       "2        Christian Bale, Heath Ledger, Aaron Eckhart     9.0         84.0   \n",
       "3     Sam Worthington, Zoe Saldana, Sigourney Weaver     7.8         83.0   \n",
       "4  Robert Downey Jr., Chris Evans, Scarlett Johan...     8.0         69.0   \n",
       "\n",
       "  Rotten_Tomato_O  Award Wins  Award Nominations  \n",
       "0             87%       159.0              220.0  \n",
       "1             73%         0.0                0.0  \n",
       "2             94%       163.0              164.0  \n",
       "3             82%        91.0              131.0  \n",
       "4             91%        39.0               81.0  "
      ]
     },
     "execution_count": 63,
     "metadata": {},
     "output_type": "execute_result"
    }
   ],
   "source": [
    "movie_file = Path(\"final_1688.csv\")\n",
    "\n",
    "movie_df = pd.read_csv(movie_file)\n",
    "movie_df.head()"
   ]
  },
  {
   "cell_type": "markdown",
   "metadata": {},
   "source": [
    "## Actor Analysis"
   ]
  },
  {
   "cell_type": "code",
   "execution_count": 64,
   "metadata": {},
   "outputs": [],
   "source": [
    "Actors_df = movie_df.copy()"
   ]
  },
  {
   "cell_type": "code",
   "execution_count": 65,
   "metadata": {},
   "outputs": [
    {
     "data": {
      "text/html": [
       "<div>\n",
       "<style scoped>\n",
       "    .dataframe tbody tr th:only-of-type {\n",
       "        vertical-align: middle;\n",
       "    }\n",
       "\n",
       "    .dataframe tbody tr th {\n",
       "        vertical-align: top;\n",
       "    }\n",
       "\n",
       "    .dataframe thead th {\n",
       "        text-align: right;\n",
       "    }\n",
       "</style>\n",
       "<table border=\"1\" class=\"dataframe\">\n",
       "  <thead>\n",
       "    <tr style=\"text-align: right;\">\n",
       "      <th></th>\n",
       "      <th>0</th>\n",
       "      <th>1</th>\n",
       "    </tr>\n",
       "  </thead>\n",
       "  <tbody>\n",
       "    <tr>\n",
       "      <th>0</th>\n",
       "      <td>Leonardo DiCaprio</td>\n",
       "      <td>Joseph Gordon-Levitt, Elliot Page</td>\n",
       "    </tr>\n",
       "    <tr>\n",
       "      <th>1</th>\n",
       "      <td>Matthew McConaughey</td>\n",
       "      <td>Anne Hathaway, Jessica Chastain</td>\n",
       "    </tr>\n",
       "    <tr>\n",
       "      <th>2</th>\n",
       "      <td>Christian Bale</td>\n",
       "      <td>Heath Ledger, Aaron Eckhart</td>\n",
       "    </tr>\n",
       "    <tr>\n",
       "      <th>3</th>\n",
       "      <td>Sam Worthington</td>\n",
       "      <td>Zoe Saldana, Sigourney Weaver</td>\n",
       "    </tr>\n",
       "    <tr>\n",
       "      <th>4</th>\n",
       "      <td>Robert Downey Jr.</td>\n",
       "      <td>Chris Evans, Scarlett Johansson</td>\n",
       "    </tr>\n",
       "  </tbody>\n",
       "</table>\n",
       "</div>"
      ],
      "text/plain": [
       "                     0                                   1\n",
       "0    Leonardo DiCaprio   Joseph Gordon-Levitt, Elliot Page\n",
       "1  Matthew McConaughey     Anne Hathaway, Jessica Chastain\n",
       "2       Christian Bale         Heath Ledger, Aaron Eckhart\n",
       "3      Sam Worthington       Zoe Saldana, Sigourney Weaver\n",
       "4    Robert Downey Jr.     Chris Evans, Scarlett Johansson"
      ]
     },
     "execution_count": 65,
     "metadata": {},
     "output_type": "execute_result"
    }
   ],
   "source": [
    "lead_actor = Actors_df[['Lead actor', 'Cast']] = Actors_df['Actors_O'].str.split(',', n=1, expand=True)\n",
    "\n",
    "lead_actor.head()"
   ]
  },
  {
   "cell_type": "code",
   "execution_count": 66,
   "metadata": {},
   "outputs": [
    {
     "data": {
      "text/plain": [
       "<bound method IndexOpsMixin.nunique of 0         Leonardo DiCaprio\n",
       "1       Matthew McConaughey\n",
       "2            Christian Bale\n",
       "3           Sam Worthington\n",
       "4         Robert Downey Jr.\n",
       "               ...         \n",
       "1683        Andrew Garfield\n",
       "1684        Joaquin Phoenix\n",
       "1685         Jerry Seinfeld\n",
       "1686           Heath Ledger\n",
       "1687             Mike Myers\n",
       "Name: Lead actor, Length: 1688, dtype: object>"
      ]
     },
     "execution_count": 66,
     "metadata": {},
     "output_type": "execute_result"
    }
   ],
   "source": [
    "Actors_df['Lead actor'].nunique"
   ]
  },
  {
   "cell_type": "markdown",
   "metadata": {},
   "source": [
    "### Actors with most amounts of movies"
   ]
  },
  {
   "cell_type": "code",
   "execution_count": 67,
   "metadata": {},
   "outputs": [
    {
     "data": {
      "text/plain": [
       "628"
      ]
     },
     "execution_count": 67,
     "metadata": {},
     "output_type": "execute_result"
    }
   ],
   "source": [
    "number_of_unique_cast = len(pd.unique(Actors_df['Lead actor']))\n",
    "number_of_unique_cast"
   ]
  },
  {
   "cell_type": "code",
   "execution_count": 68,
   "metadata": {},
   "outputs": [
    {
     "data": {
      "text/plain": [
       "Lead actor\n",
       "Johnny Depp          23\n",
       "Tom Hanks            22\n",
       "Tom Cruise           22\n",
       "Leonardo DiCaprio    19\n",
       "Denzel Washington    19\n",
       "Name: count, dtype: int64"
      ]
     },
     "execution_count": 68,
     "metadata": {},
     "output_type": "execute_result"
    }
   ],
   "source": [
    "actors_most_movies = Actors_df['Lead actor'].value_counts()\n",
    "\n",
    "# top occuring actors\n",
    "\n",
    "actors_most_movies.head()"
   ]
  },
  {
   "cell_type": "code",
   "execution_count": 69,
   "metadata": {},
   "outputs": [
    {
     "data": {
      "text/plain": [
       "Lead actor\n",
       "Eddie Murphy          9\n",
       "Mike Myers            9\n",
       "Will Ferrell          9\n",
       "Tom Hardy             9\n",
       "Harrison Ford         9\n",
       "Ryan Reynolds         8\n",
       "Scarlett Johansson    8\n",
       "Robin Williams        8\n",
       "Cameron Diaz          8\n",
       "Joaquin Phoenix       8\n",
       "Name: count, dtype: int64"
      ]
     },
     "execution_count": 69,
     "metadata": {},
     "output_type": "execute_result"
    }
   ],
   "source": [
    "actors_most_movies.iloc[30:40]"
   ]
  },
  {
   "cell_type": "code",
   "execution_count": 70,
   "metadata": {},
   "outputs": [
    {
     "data": {
      "text/plain": [
       "Lead actor\n",
       "Johnny Depp               20-25\n",
       "Tom Hanks                 20-25\n",
       "Tom Cruise                20-25\n",
       "Leonardo DiCaprio         15-20\n",
       "Denzel Washington         15-20\n",
       "                          ...  \n",
       "Steve Zahn                  0-5\n",
       "Charlie Cox                 0-5\n",
       "Elizabeth Olsen             0-5\n",
       "Donnie Wahlberg             0-5\n",
       "Philip Seymour Hoffman      0-5\n",
       "Name: count, Length: 628, dtype: category\n",
       "Categories (5, object): ['0-5' < '5-10' < '10-15' < '15-20' < '20-25']"
      ]
     },
     "execution_count": 70,
     "metadata": {},
     "output_type": "execute_result"
    }
   ],
   "source": [
    "# bins with ranges\n",
    "\n",
    "popularity_bins = pd.cut(actors_most_movies, [0, 5, 10, 15, 20, 25], labels=['0-5', '5-10', '10-15', '15-20', '20-25'])\n",
    "popularity_bins"
   ]
  },
  {
   "cell_type": "code",
   "execution_count": 71,
   "metadata": {},
   "outputs": [
    {
     "name": "stdout",
     "output_type": "stream",
     "text": [
      "Popularity Bins\n",
      "0-5      148.539648\n",
      "5-10     211.515725\n",
      "10-15    212.476724\n",
      "15-20    148.936630\n",
      "20-25    257.187735\n",
      "Name: profit, dtype: float64\n"
     ]
    },
    {
     "name": "stderr",
     "output_type": "stream",
     "text": [
      "/var/folders/jd/jl0dg_qj6xg4kq6zfpwmgt840000gn/T/ipykernel_81993/478352475.py:7: FutureWarning: The default of observed=False is deprecated and will be changed to True in a future version of pandas. Pass observed=False to retain current behavior or observed=True to adopt the future default and silence this warning.\n",
      "  mean_box_office_per_bin = Actors_merged_df.groupby('Popularity Bins')['profit'].mean()/1_000_000\n"
     ]
    }
   ],
   "source": [
    "actors_df_bins = pd.DataFrame({'Lead Actor Count': actors_most_movies, 'Popularity Bins': popularity_bins})\n",
    "\n",
    "# Merge the 'actors df bins' with 'actors_df' on the lead actor column\n",
    "Actors_merged_df = pd.merge(Actors_df,actors_df_bins, left_on='Lead actor', right_index=True)\n",
    "\n",
    "# Group the merged DataFrame by the 'Popularity Bins' and calculate the mean box office total for each bin\n",
    "mean_box_office_per_bin = Actors_merged_df.groupby('Popularity Bins')['profit'].mean()/1_000_000\n",
    "\n",
    "print(mean_box_office_per_bin)"
   ]
  },
  {
   "cell_type": "markdown",
   "metadata": {},
   "source": [
    "### analysis charts"
   ]
  },
  {
   "cell_type": "code",
   "execution_count": 72,
   "metadata": {},
   "outputs": [
    {
     "data": {
      "image/png": "[encoded data removed]",
      "text/plain": [
       "<Figure size 1000x600 with 1 Axes>"
      ]
     },
     "metadata": {},
     "output_type": "display_data"
    }
   ],
   "source": [
    "# popular actors vs the average profit per movie bar chart\n",
    "\n",
    "mean_box_office_per_bin.plot(kind='bar', figsize=(10, 6), color='pink')\n",
    "\n",
    "# Titles and labels\n",
    "plt.title('popular actors vs mean profit per movie')\n",
    "plt.xlabel('amount of movies actor was in')\n",
    "plt.ylabel('profit in millions')\n",
    "plt.xticks(fontsize=14, rotation = 45)  \n",
    "\n",
    "plt.savefig('actor_movie_count_vs_profitpng')\n",
    "\n",
    "plt.show()"
   ]
  },
  {
   "cell_type": "code",
   "execution_count": null,
   "metadata": {},
   "outputs": [],
   "source": [
    "#Actors_df['Rotten_Tomato_O'] = Actors_df['Rotten_Tomato_O'].str.replace('%', '').str.replace(',', '').astype(float) / 100\n",
    "\n",
    "\n",
    "# Display the DataFrame after conversion\n",
    "#Actors_df.head()"
   ]
  },
  {
   "cell_type": "code",
   "execution_count": 73,
   "metadata": {},
   "outputs": [
    {
     "ename": "KeyError",
     "evalue": "\"['Rotten_Tomato_O'] not in index\"",
     "output_type": "error",
     "traceback": [
      "\u001b[0;31m---------------------------------------------------------------------------\u001b[0m",
      "\u001b[0;31mKeyError\u001b[0m                                  Traceback (most recent call last)",
      "Cell \u001b[0;32mIn[73], line 6\u001b[0m\n\u001b[1;32m      1\u001b[0m Actors_df \u001b[38;5;241m=\u001b[39m pd\u001b[38;5;241m.\u001b[39mDataFrame({\n\u001b[1;32m      2\u001b[0m     \u001b[38;5;124m'\u001b[39m\u001b[38;5;124mLead actor\u001b[39m\u001b[38;5;124m'\u001b[39m: actors_most_movies\u001b[38;5;241m.\u001b[39mindex,\n\u001b[1;32m      3\u001b[0m     \u001b[38;5;124m'\u001b[39m\u001b[38;5;124mMovie Count\u001b[39m\u001b[38;5;124m'\u001b[39m: actors_most_movies\u001b[38;5;241m.\u001b[39mvalues\n\u001b[1;32m      4\u001b[0m })\n\u001b[0;32m----> 6\u001b[0m Actors_df_clean \u001b[38;5;241m=\u001b[39m Actors_df[[\u001b[38;5;124m'\u001b[39m\u001b[38;5;124mLead actor\u001b[39m\u001b[38;5;124m'\u001b[39m, \u001b[38;5;124m'\u001b[39m\u001b[38;5;124mRotten_Tomato_O\u001b[39m\u001b[38;5;124m'\u001b[39m]]\n\u001b[1;32m      8\u001b[0m merged_df \u001b[38;5;241m=\u001b[39m pd\u001b[38;5;241m.\u001b[39mmerge(actors_most_movies, Actors_df_clean, on\u001b[38;5;241m=\u001b[39m\u001b[38;5;124m'\u001b[39m\u001b[38;5;124mLead actor\u001b[39m\u001b[38;5;124m'\u001b[39m)\n\u001b[1;32m     10\u001b[0m \u001b[38;5;66;03m# Calculate Pearson correlation\u001b[39;00m\n",
      "File \u001b[0;32m/opt/anaconda3/lib/python3.11/site-packages/pandas/core/frame.py:3899\u001b[0m, in \u001b[0;36mDataFrame.__getitem__\u001b[0;34m(self, key)\u001b[0m\n\u001b[1;32m   3897\u001b[0m     \u001b[38;5;28;01mif\u001b[39;00m is_iterator(key):\n\u001b[1;32m   3898\u001b[0m         key \u001b[38;5;241m=\u001b[39m \u001b[38;5;28mlist\u001b[39m(key)\n\u001b[0;32m-> 3899\u001b[0m     indexer \u001b[38;5;241m=\u001b[39m \u001b[38;5;28mself\u001b[39m\u001b[38;5;241m.\u001b[39mcolumns\u001b[38;5;241m.\u001b[39m_get_indexer_strict(key, \u001b[38;5;124m\"\u001b[39m\u001b[38;5;124mcolumns\u001b[39m\u001b[38;5;124m\"\u001b[39m)[\u001b[38;5;241m1\u001b[39m]\n\u001b[1;32m   3901\u001b[0m \u001b[38;5;66;03m# take() does not accept boolean indexers\u001b[39;00m\n\u001b[1;32m   3902\u001b[0m \u001b[38;5;28;01mif\u001b[39;00m \u001b[38;5;28mgetattr\u001b[39m(indexer, \u001b[38;5;124m\"\u001b[39m\u001b[38;5;124mdtype\u001b[39m\u001b[38;5;124m\"\u001b[39m, \u001b[38;5;28;01mNone\u001b[39;00m) \u001b[38;5;241m==\u001b[39m \u001b[38;5;28mbool\u001b[39m:\n",
      "File \u001b[0;32m/opt/anaconda3/lib/python3.11/site-packages/pandas/core/indexes/base.py:6115\u001b[0m, in \u001b[0;36mIndex._get_indexer_strict\u001b[0;34m(self, key, axis_name)\u001b[0m\n\u001b[1;32m   6112\u001b[0m \u001b[38;5;28;01melse\u001b[39;00m:\n\u001b[1;32m   6113\u001b[0m     keyarr, indexer, new_indexer \u001b[38;5;241m=\u001b[39m \u001b[38;5;28mself\u001b[39m\u001b[38;5;241m.\u001b[39m_reindex_non_unique(keyarr)\n\u001b[0;32m-> 6115\u001b[0m \u001b[38;5;28mself\u001b[39m\u001b[38;5;241m.\u001b[39m_raise_if_missing(keyarr, indexer, axis_name)\n\u001b[1;32m   6117\u001b[0m keyarr \u001b[38;5;241m=\u001b[39m \u001b[38;5;28mself\u001b[39m\u001b[38;5;241m.\u001b[39mtake(indexer)\n\u001b[1;32m   6118\u001b[0m \u001b[38;5;28;01mif\u001b[39;00m \u001b[38;5;28misinstance\u001b[39m(key, Index):\n\u001b[1;32m   6119\u001b[0m     \u001b[38;5;66;03m# GH 42790 - Preserve name from an Index\u001b[39;00m\n",
      "File \u001b[0;32m/opt/anaconda3/lib/python3.11/site-packages/pandas/core/indexes/base.py:6179\u001b[0m, in \u001b[0;36mIndex._raise_if_missing\u001b[0;34m(self, key, indexer, axis_name)\u001b[0m\n\u001b[1;32m   6176\u001b[0m     \u001b[38;5;28;01mraise\u001b[39;00m \u001b[38;5;167;01mKeyError\u001b[39;00m(\u001b[38;5;124mf\u001b[39m\u001b[38;5;124m\"\u001b[39m\u001b[38;5;124mNone of [\u001b[39m\u001b[38;5;132;01m{\u001b[39;00mkey\u001b[38;5;132;01m}\u001b[39;00m\u001b[38;5;124m] are in the [\u001b[39m\u001b[38;5;132;01m{\u001b[39;00maxis_name\u001b[38;5;132;01m}\u001b[39;00m\u001b[38;5;124m]\u001b[39m\u001b[38;5;124m\"\u001b[39m)\n\u001b[1;32m   6178\u001b[0m not_found \u001b[38;5;241m=\u001b[39m \u001b[38;5;28mlist\u001b[39m(ensure_index(key)[missing_mask\u001b[38;5;241m.\u001b[39mnonzero()[\u001b[38;5;241m0\u001b[39m]]\u001b[38;5;241m.\u001b[39munique())\n\u001b[0;32m-> 6179\u001b[0m \u001b[38;5;28;01mraise\u001b[39;00m \u001b[38;5;167;01mKeyError\u001b[39;00m(\u001b[38;5;124mf\u001b[39m\u001b[38;5;124m\"\u001b[39m\u001b[38;5;132;01m{\u001b[39;00mnot_found\u001b[38;5;132;01m}\u001b[39;00m\u001b[38;5;124m not in index\u001b[39m\u001b[38;5;124m\"\u001b[39m)\n",
      "\u001b[0;31mKeyError\u001b[0m: \"['Rotten_Tomato_O'] not in index\""
     ]
    }
   ],
   "source": [
    "Actors_df = pd.DataFrame({\n",
    "    'Lead actor': actors_most_movies.index,\n",
    "    'Movie Count': actors_most_movies.values\n",
    "})\n",
    "\n",
    "Actors_df_clean = Actors_df[['Lead actor', 'Rotten_Tomato_O']]\n",
    "\n",
    "merged_df = pd.merge(actors_most_movies, Actors_df_clean, on='Lead actor')\n",
    "\n",
    "# Calculate Pearson correlation\n",
    "correlation, p_value = stats.pearsonr(merged_df['Movie Count'], merged_df['Rotten_Tomato_O'])\n",
    "print(f\"Pearson correlation coefficient: {correlation:.2f}, p-value: {p_value:.2e}\")\n",
    "\n",
    "# Create scatter plot with regression line\n",
    "plt.figure(figsize=(10, 6))\n",
    "sns.regplot(x='Movie Count', y='Rotten_Tomato_O', data=merged_df, scatter_kws={'s': 50}, line_kws={'color': 'red'})\n",
    "plt.title('Lead Actor Movie Count vs Rotten Tomatoes Rating')\n",
    "plt.xlabel('Number of Movies')\n",
    "plt.ylabel('Rotten Tomatoes Rating')\n",
    "plt.grid(True)\n",
    "\n",
    "#plt.savefig('actor_movie_count_vs_rotten_tomatoes_rating.png')\n",
    "\n",
    "plt.show()"
   ]
  },
  {
   "cell_type": "markdown",
   "metadata": {},
   "source": [
    "Awards Analysis"
   ]
  },
  {
   "cell_type": "code",
   "execution_count": null,
   "metadata": {},
   "outputs": [],
   "source": []
  }
 ],
 "metadata": {
  "kernelspec": {
   "display_name": "base",
   "language": "python",
   "name": "python3"
  },
  "language_info": {
   "codemirror_mode": {
    "name": "ipython",
    "version": 3
   },
   "file_extension": ".py",
   "mimetype": "text/x-python",
   "name": "python",
   "nbconvert_exporter": "python",
   "pygments_lexer": "ipython3",
   "version": "3.11.7"
  }
 },
 "nbformat": 4,
 "nbformat_minor": 2
}
