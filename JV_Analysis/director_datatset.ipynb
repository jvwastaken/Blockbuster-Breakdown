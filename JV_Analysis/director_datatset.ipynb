{
 "cells": [
  {
   "cell_type": "code",
   "execution_count": null,
   "metadata": {},
   "outputs": [],
   "source": [
    "import pandas as pd\n",
    "from pathlib import Path"
   ]
  },
  {
   "cell_type": "code",
   "execution_count": null,
   "metadata": {},
   "outputs": [],
   "source": [
    "movie_file = Path(\"Movie_RawDataset.csv\")\n",
    "\n",
    "movie_df = pd.read_csv(movie_file)\n",
    "\n",
    "movie_df.head()"
   ]
  },
  {
   "cell_type": "code",
   "execution_count": null,
   "metadata": {},
   "outputs": [],
   "source": [
    "movie_df = movie_df.rename(columns={\"Movie Rated\":\"Movie_Rate\", \"IMDb Rating\": \"IMDb_Rating\",\n",
    "                                    \"Rotten Tomatoes Rating\":\"Rotten_Tomatoes_Rating\", \"IMDb ID\":\"IMDb_ID\",\n",
    "                                    \"Box Office\":\"Box_Office\", \"Rotten Tomatoes\":\"Rotten_Tomatoes\"})\n",
    "del movie_df['IMDb_ID']\n",
    "\n",
    "# movie_df = movie_df[movie_df[\"Awards\"] != \"Awards not found\"]\n",
    "# movie_df['Director'].value_counts()"
   ]
  },
  {
   "cell_type": "markdown",
   "metadata": {},
   "source": [
    "### The input cell below groups the data by \"Single Director\" and \"Multiple Directors\""
   ]
  },
  {
   "cell_type": "code",
   "execution_count": null,
   "metadata": {},
   "outputs": [],
   "source": [
    "# Create a new column \"Director_Type\" based on the number of directors\n",
    "movie_df['Director_Type'] = movie_df['Director'].apply(lambda x: 'Multiple Directors' if ',' in x else 'Single Director')\n",
    "\n",
    "# Group the DataFrame by the \"Director_Type\" column\n",
    "grouped_director_type = movie_df.groupby('Director_Type')\n",
    "\n",
    "# Print the count of movies in each group\n",
    "for director_type, group in grouped_director_type:\n",
    "    print(f\"Director Type: {director_type}\")\n",
    "    print(group[['Movie_Title', 'Director']])\n",
    "    print()\n",
    "\n",
    "\n",
    "grouped_director_type.head()"
   ]
  },
  {
   "cell_type": "markdown",
   "metadata": {},
   "source": [
    "### The input cell below splits \"Multiple Directors\" into individual elements"
   ]
  },
  {
   "cell_type": "code",
   "execution_count": null,
   "metadata": {},
   "outputs": [],
   "source": [
    "# Identify rows with multiple directors\n",
    "multiple_directors_mask = movie_df['Director'].str.contains(',')\n",
    "\n",
    "# Split multiple directors into individual values and create new rows\n",
    "multiple_directors_df = movie_df[multiple_directors_mask].copy()\n",
    "multiple_directors_df['Director'] = multiple_directors_df['Director'].str.split(', ')\n",
    "multiple_directors_df = multiple_directors_df.explode('Director')\n",
    "\n",
    "# Combine the original DataFrame with the new rows for multiple directors\n",
    "updated_movie_df = pd.concat([movie_df[~multiple_directors_mask], multiple_directors_df], ignore_index=True)\n",
    "\n",
    "updated_movie_df.head()\n",
    "updated_movie_df['Director'].value_counts()"
   ]
  }
 ],
 "metadata": {
  "language_info": {
   "name": "python"
  }
 },
 "nbformat": 4,
 "nbformat_minor": 2
}
